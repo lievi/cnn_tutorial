{
 "cells": [
  {
   "cell_type": "code",
   "execution_count": 68,
   "metadata": {},
   "outputs": [],
   "source": [
    "import pickle\n",
    "import pandas as pd\n",
    "import numpy as np\n",
    "import matplotlib.pyplot as plt\n",
    "import matplotlib.image as mpimg\n",
    "import seaborn as sns\n",
    "%matplotlib inline\n",
    "\n",
    "np.random.seed(2)\n",
    "\n",
    "from sklearn.model_selection import train_test_split\n",
    "from sklearn.metrics import confusion_matrix\n",
    "import itertools\n",
    "\n",
    "from keras.utils.np_utils import to_categorical\n",
    "from keras.models import Sequential\n",
    "from keras.layers import (\n",
    "    Dense, Dropout, Flatten, Conv2D, MaxPool2D\n",
    ")\n",
    "from keras.optimizers import rmsprop_v2\n",
    "from keras.preprocessing.image import ImageDataGenerator\n",
    "from keras.callbacks import ReduceLROnPlateau\n",
    "\n",
    "import tensorflow as tf\n",
    "import mlflow\n",
    "\n",
    "from utils.visualize import plot_accuracy_and_loss\n",
    "\n",
    "sns.set(style='white', context='notebook', palette='deep')"
   ]
  },
  {
   "cell_type": "code",
   "execution_count": 69,
   "metadata": {},
   "outputs": [
    {
     "name": "stdout",
     "output_type": "stream",
     "text": [
      "Num GPUs Available:  1\n"
     ]
    }
   ],
   "source": [
    "# this disable the GPU\n",
    "# tf.config.set_visible_devices([], 'GPU')\n",
    "print(\"Num GPUs Available: \", len(tf.config.list_physical_devices('GPU')))"
   ]
  },
  {
   "cell_type": "code",
   "execution_count": 70,
   "metadata": {},
   "outputs": [],
   "source": [
    "npz_file = np.load('../data/processed/processed_data.npz')\n",
    "X_train, X_val, Y_train, Y_val = npz_file.values()"
   ]
  },
  {
   "cell_type": "code",
   "execution_count": 71,
   "metadata": {},
   "outputs": [],
   "source": [
    "mlflow.keras.autolog()\n",
    "\n",
    "model = Sequential()\n",
    "\n",
    "model.add(\n",
    "    Conv2D(\n",
    "        filters=32,\n",
    "        kernel_size=(5, 5),\n",
    "        padding=\"Same\",\n",
    "        activation='relu',\n",
    "        input_shape=(28, 28, 1)\n",
    "    )\n",
    ")\n",
    "# model.add(\n",
    "#     Conv2D(\n",
    "#         filters=32,\n",
    "#         kernel_size=(5, 5),\n",
    "#         padding=\"Same\",\n",
    "#         activation='relu',\n",
    "#     )\n",
    "# )\n",
    "model.add(\n",
    "    MaxPool2D(pool_size=(2, 2))\n",
    ")\n",
    "model.add(Dropout(0.25))\n",
    "\n",
    "model.add(\n",
    "    Conv2D(\n",
    "        filters=64,\n",
    "        kernel_size=(3, 3),\n",
    "        padding=\"Same\",\n",
    "        activation='relu'\n",
    "    )\n",
    ")\n",
    "# model.add(\n",
    "#     Conv2D(\n",
    "#         filters=64,\n",
    "#         kernel_size=(3, 3),\n",
    "#         padding=\"Same\",\n",
    "#         activation='relu'\n",
    "#     )\n",
    "# )\n",
    "model.add(\n",
    "    MaxPool2D(pool_size=(2, 2), strides=(2, 2))\n",
    ")\n",
    "model.add(Dropout(0.25))\n",
    "\n",
    "# Flattening the matrix into a vector\n",
    "model.add(Flatten())\n",
    "model.add(Dense(256, activation=\"relu\"))\n",
    "model.add(Dropout(0.5))\n",
    "model.add(Dense(128, activation=\"relu\"))\n",
    "model.add(Dense(10, activation=\"softmax\"))"
   ]
  },
  {
   "cell_type": "markdown",
   "metadata": {},
   "source": [
    "## 2.2 Optimizer"
   ]
  },
  {
   "cell_type": "markdown",
   "metadata": {},
   "source": [
    "- We need to set up a keras optimizer, and choose the _score function_(?) a _loss function_(such as mean squared error) and a _optimization function_(like gradient descent, or stochastic gradient descent) \n",
    "- *Keras* has a set of objects that implement these optimizers."
   ]
  },
  {
   "cell_type": "code",
   "execution_count": 72,
   "metadata": {},
   "outputs": [
    {
     "ename": "MlflowException",
     "evalue": "Changing param values is not allowed. Param with key='batch_size' was already logged with value='None' for run ID='8618602a81c14fa6a8c2b5ac8dc784bd'. Attempted logging new value '30'.",
     "output_type": "error",
     "traceback": [
      "\u001b[0;31m---------------------------------------------------------------------------\u001b[0m",
      "\u001b[0;31mMlflowException\u001b[0m                           Traceback (most recent call last)",
      "\u001b[0;32m/tmp/ipykernel_32455/681310278.py\u001b[0m in \u001b[0;36m<module>\u001b[0;34m\u001b[0m\n\u001b[1;32m      1\u001b[0m \u001b[0;31m# Hyperparamenters\u001b[0m\u001b[0;34m\u001b[0m\u001b[0;34m\u001b[0m\u001b[0m\n\u001b[0;32m----> 2\u001b[0;31m \u001b[0mmlflow\u001b[0m\u001b[0;34m.\u001b[0m\u001b[0mlog_param\u001b[0m\u001b[0;34m(\u001b[0m\u001b[0;34m'batch_size'\u001b[0m\u001b[0;34m,\u001b[0m \u001b[0mbatch_size\u001b[0m\u001b[0;34m)\u001b[0m\u001b[0;34m\u001b[0m\u001b[0;34m\u001b[0m\u001b[0m\n\u001b[0m\u001b[1;32m      3\u001b[0m \u001b[0mepochs\u001b[0m \u001b[0;34m=\u001b[0m \u001b[0;36m10\u001b[0m\u001b[0;34m\u001b[0m\u001b[0;34m\u001b[0m\u001b[0m\n\u001b[1;32m      4\u001b[0m \u001b[0mbatch_size\u001b[0m \u001b[0;34m=\u001b[0m \u001b[0;36m30\u001b[0m\u001b[0;34m\u001b[0m\u001b[0;34m\u001b[0m\u001b[0m\n\u001b[1;32m      5\u001b[0m \u001b[0mlearning_rate\u001b[0m\u001b[0;34m=\u001b[0m\u001b[0;36m0.001\u001b[0m\u001b[0;34m\u001b[0m\u001b[0;34m\u001b[0m\u001b[0m\n",
      "\u001b[0;32m~/.cache/pypoetry/virtualenvs/cnn-mnist-3oAv3CAk-py3.9/lib/python3.9/site-packages/mlflow/tracking/fluent.py\u001b[0m in \u001b[0;36mlog_param\u001b[0;34m(key, value)\u001b[0m\n\u001b[1;32m    371\u001b[0m     \"\"\"\n\u001b[1;32m    372\u001b[0m     \u001b[0mrun_id\u001b[0m \u001b[0;34m=\u001b[0m \u001b[0m_get_or_start_run\u001b[0m\u001b[0;34m(\u001b[0m\u001b[0;34m)\u001b[0m\u001b[0;34m.\u001b[0m\u001b[0minfo\u001b[0m\u001b[0;34m.\u001b[0m\u001b[0mrun_id\u001b[0m\u001b[0;34m\u001b[0m\u001b[0;34m\u001b[0m\u001b[0m\n\u001b[0;32m--> 373\u001b[0;31m     \u001b[0mMlflowClient\u001b[0m\u001b[0;34m(\u001b[0m\u001b[0;34m)\u001b[0m\u001b[0;34m.\u001b[0m\u001b[0mlog_param\u001b[0m\u001b[0;34m(\u001b[0m\u001b[0mrun_id\u001b[0m\u001b[0;34m,\u001b[0m \u001b[0mkey\u001b[0m\u001b[0;34m,\u001b[0m \u001b[0mvalue\u001b[0m\u001b[0;34m)\u001b[0m\u001b[0;34m\u001b[0m\u001b[0;34m\u001b[0m\u001b[0m\n\u001b[0m\u001b[1;32m    374\u001b[0m \u001b[0;34m\u001b[0m\u001b[0m\n\u001b[1;32m    375\u001b[0m \u001b[0;34m\u001b[0m\u001b[0m\n",
      "\u001b[0;32m~/.cache/pypoetry/virtualenvs/cnn-mnist-3oAv3CAk-py3.9/lib/python3.9/site-packages/mlflow/tracking/client.py\u001b[0m in \u001b[0;36mlog_param\u001b[0;34m(self, run_id, key, value)\u001b[0m\n\u001b[1;32m    722\u001b[0m             \u001b[0mstatus\u001b[0m\u001b[0;34m:\u001b[0m \u001b[0mFINISHED\u001b[0m\u001b[0;34m\u001b[0m\u001b[0;34m\u001b[0m\u001b[0m\n\u001b[1;32m    723\u001b[0m         \"\"\"\n\u001b[0;32m--> 724\u001b[0;31m         \u001b[0mself\u001b[0m\u001b[0;34m.\u001b[0m\u001b[0m_tracking_client\u001b[0m\u001b[0;34m.\u001b[0m\u001b[0mlog_param\u001b[0m\u001b[0;34m(\u001b[0m\u001b[0mrun_id\u001b[0m\u001b[0;34m,\u001b[0m \u001b[0mkey\u001b[0m\u001b[0;34m,\u001b[0m \u001b[0mvalue\u001b[0m\u001b[0;34m)\u001b[0m\u001b[0;34m\u001b[0m\u001b[0;34m\u001b[0m\u001b[0m\n\u001b[0m\u001b[1;32m    725\u001b[0m \u001b[0;34m\u001b[0m\u001b[0m\n\u001b[1;32m    726\u001b[0m     \u001b[0;32mdef\u001b[0m \u001b[0mset_experiment_tag\u001b[0m\u001b[0;34m(\u001b[0m\u001b[0mself\u001b[0m\u001b[0;34m,\u001b[0m \u001b[0mexperiment_id\u001b[0m\u001b[0;34m:\u001b[0m \u001b[0mstr\u001b[0m\u001b[0;34m,\u001b[0m \u001b[0mkey\u001b[0m\u001b[0;34m:\u001b[0m \u001b[0mstr\u001b[0m\u001b[0;34m,\u001b[0m \u001b[0mvalue\u001b[0m\u001b[0;34m:\u001b[0m \u001b[0mAny\u001b[0m\u001b[0;34m)\u001b[0m \u001b[0;34m->\u001b[0m \u001b[0;32mNone\u001b[0m\u001b[0;34m:\u001b[0m\u001b[0;34m\u001b[0m\u001b[0;34m\u001b[0m\u001b[0m\n",
      "\u001b[0;32m~/.cache/pypoetry/virtualenvs/cnn-mnist-3oAv3CAk-py3.9/lib/python3.9/site-packages/mlflow/tracking/_tracking_service/client.py\u001b[0m in \u001b[0;36mlog_param\u001b[0;34m(self, run_id, key, value)\u001b[0m\n\u001b[1;32m    223\u001b[0m         \u001b[0m_validate_param_name\u001b[0m\u001b[0;34m(\u001b[0m\u001b[0mkey\u001b[0m\u001b[0;34m)\u001b[0m\u001b[0;34m\u001b[0m\u001b[0;34m\u001b[0m\u001b[0m\n\u001b[1;32m    224\u001b[0m         \u001b[0mparam\u001b[0m \u001b[0;34m=\u001b[0m \u001b[0mParam\u001b[0m\u001b[0;34m(\u001b[0m\u001b[0mkey\u001b[0m\u001b[0;34m,\u001b[0m \u001b[0mstr\u001b[0m\u001b[0;34m(\u001b[0m\u001b[0mvalue\u001b[0m\u001b[0;34m)\u001b[0m\u001b[0;34m)\u001b[0m\u001b[0;34m\u001b[0m\u001b[0;34m\u001b[0m\u001b[0m\n\u001b[0;32m--> 225\u001b[0;31m         \u001b[0mself\u001b[0m\u001b[0;34m.\u001b[0m\u001b[0mstore\u001b[0m\u001b[0;34m.\u001b[0m\u001b[0mlog_param\u001b[0m\u001b[0;34m(\u001b[0m\u001b[0mrun_id\u001b[0m\u001b[0;34m,\u001b[0m \u001b[0mparam\u001b[0m\u001b[0;34m)\u001b[0m\u001b[0;34m\u001b[0m\u001b[0;34m\u001b[0m\u001b[0m\n\u001b[0m\u001b[1;32m    226\u001b[0m \u001b[0;34m\u001b[0m\u001b[0m\n\u001b[1;32m    227\u001b[0m     \u001b[0;32mdef\u001b[0m \u001b[0mset_experiment_tag\u001b[0m\u001b[0;34m(\u001b[0m\u001b[0mself\u001b[0m\u001b[0;34m,\u001b[0m \u001b[0mexperiment_id\u001b[0m\u001b[0;34m,\u001b[0m \u001b[0mkey\u001b[0m\u001b[0;34m,\u001b[0m \u001b[0mvalue\u001b[0m\u001b[0;34m)\u001b[0m\u001b[0;34m:\u001b[0m\u001b[0;34m\u001b[0m\u001b[0;34m\u001b[0m\u001b[0m\n",
      "\u001b[0;32m~/.cache/pypoetry/virtualenvs/cnn-mnist-3oAv3CAk-py3.9/lib/python3.9/site-packages/mlflow/store/tracking/file_store.py\u001b[0m in \u001b[0;36mlog_param\u001b[0;34m(self, run_id, param)\u001b[0m\n\u001b[1;32m    788\u001b[0m         \u001b[0mrun_info\u001b[0m \u001b[0;34m=\u001b[0m \u001b[0mself\u001b[0m\u001b[0;34m.\u001b[0m\u001b[0m_get_run_info\u001b[0m\u001b[0;34m(\u001b[0m\u001b[0mrun_id\u001b[0m\u001b[0;34m)\u001b[0m\u001b[0;34m\u001b[0m\u001b[0;34m\u001b[0m\u001b[0m\n\u001b[1;32m    789\u001b[0m         \u001b[0mcheck_run_is_active\u001b[0m\u001b[0;34m(\u001b[0m\u001b[0mrun_info\u001b[0m\u001b[0;34m)\u001b[0m\u001b[0;34m\u001b[0m\u001b[0;34m\u001b[0m\u001b[0m\n\u001b[0;32m--> 790\u001b[0;31m         \u001b[0mself\u001b[0m\u001b[0;34m.\u001b[0m\u001b[0m_log_run_param\u001b[0m\u001b[0;34m(\u001b[0m\u001b[0mrun_info\u001b[0m\u001b[0;34m,\u001b[0m \u001b[0mparam\u001b[0m\u001b[0;34m)\u001b[0m\u001b[0;34m\u001b[0m\u001b[0;34m\u001b[0m\u001b[0m\n\u001b[0m\u001b[1;32m    791\u001b[0m \u001b[0;34m\u001b[0m\u001b[0m\n\u001b[1;32m    792\u001b[0m     \u001b[0;32mdef\u001b[0m \u001b[0m_log_run_param\u001b[0m\u001b[0;34m(\u001b[0m\u001b[0mself\u001b[0m\u001b[0;34m,\u001b[0m \u001b[0mrun_info\u001b[0m\u001b[0;34m,\u001b[0m \u001b[0mparam\u001b[0m\u001b[0;34m)\u001b[0m\u001b[0;34m:\u001b[0m\u001b[0;34m\u001b[0m\u001b[0;34m\u001b[0m\u001b[0m\n",
      "\u001b[0;32m~/.cache/pypoetry/virtualenvs/cnn-mnist-3oAv3CAk-py3.9/lib/python3.9/site-packages/mlflow/store/tracking/file_store.py\u001b[0m in \u001b[0;36m_log_run_param\u001b[0;34m(self, run_info, param)\u001b[0m\n\u001b[1;32m    794\u001b[0m         \u001b[0mwriteable_param_value\u001b[0m \u001b[0;34m=\u001b[0m \u001b[0mself\u001b[0m\u001b[0;34m.\u001b[0m\u001b[0m_writeable_value\u001b[0m\u001b[0;34m(\u001b[0m\u001b[0mparam\u001b[0m\u001b[0;34m.\u001b[0m\u001b[0mvalue\u001b[0m\u001b[0;34m)\u001b[0m\u001b[0;34m\u001b[0m\u001b[0;34m\u001b[0m\u001b[0m\n\u001b[1;32m    795\u001b[0m         \u001b[0;32mif\u001b[0m \u001b[0mos\u001b[0m\u001b[0;34m.\u001b[0m\u001b[0mpath\u001b[0m\u001b[0;34m.\u001b[0m\u001b[0mexists\u001b[0m\u001b[0;34m(\u001b[0m\u001b[0mparam_path\u001b[0m\u001b[0;34m)\u001b[0m\u001b[0;34m:\u001b[0m\u001b[0;34m\u001b[0m\u001b[0;34m\u001b[0m\u001b[0m\n\u001b[0;32m--> 796\u001b[0;31m             self._validate_new_param_value(\n\u001b[0m\u001b[1;32m    797\u001b[0m                 \u001b[0mparam_path\u001b[0m\u001b[0;34m=\u001b[0m\u001b[0mparam_path\u001b[0m\u001b[0;34m,\u001b[0m\u001b[0;34m\u001b[0m\u001b[0;34m\u001b[0m\u001b[0m\n\u001b[1;32m    798\u001b[0m                 \u001b[0mparam_key\u001b[0m\u001b[0;34m=\u001b[0m\u001b[0mparam\u001b[0m\u001b[0;34m.\u001b[0m\u001b[0mkey\u001b[0m\u001b[0;34m,\u001b[0m\u001b[0;34m\u001b[0m\u001b[0;34m\u001b[0m\u001b[0m\n",
      "\u001b[0;32m~/.cache/pypoetry/virtualenvs/cnn-mnist-3oAv3CAk-py3.9/lib/python3.9/site-packages/mlflow/store/tracking/file_store.py\u001b[0m in \u001b[0;36m_validate_new_param_value\u001b[0;34m(self, param_path, param_key, run_id, new_value)\u001b[0m\n\u001b[1;32m    814\u001b[0m             \u001b[0mcurrent_value\u001b[0m \u001b[0;34m=\u001b[0m \u001b[0mparam_file\u001b[0m\u001b[0;34m.\u001b[0m\u001b[0mread\u001b[0m\u001b[0;34m(\u001b[0m\u001b[0;34m)\u001b[0m\u001b[0;34m\u001b[0m\u001b[0;34m\u001b[0m\u001b[0m\n\u001b[1;32m    815\u001b[0m         \u001b[0;32mif\u001b[0m \u001b[0mcurrent_value\u001b[0m \u001b[0;34m!=\u001b[0m \u001b[0mnew_value\u001b[0m\u001b[0;34m:\u001b[0m\u001b[0;34m\u001b[0m\u001b[0;34m\u001b[0m\u001b[0m\n\u001b[0;32m--> 816\u001b[0;31m             raise MlflowException(\n\u001b[0m\u001b[1;32m    817\u001b[0m                 \u001b[0;34m\"Changing param values is not allowed. Param with key='{}' was already\"\u001b[0m\u001b[0;34m\u001b[0m\u001b[0;34m\u001b[0m\u001b[0m\n\u001b[1;32m    818\u001b[0m                 \u001b[0;34m\" logged with value='{}' for run ID='{}'. Attempted logging new value\"\u001b[0m\u001b[0;34m\u001b[0m\u001b[0;34m\u001b[0m\u001b[0m\n",
      "\u001b[0;31mMlflowException\u001b[0m: Changing param values is not allowed. Param with key='batch_size' was already logged with value='None' for run ID='8618602a81c14fa6a8c2b5ac8dc784bd'. Attempted logging new value '30'."
     ]
    }
   ],
   "source": [
    "# Hyperparamenters\n",
    "epochs = 10\n",
    "batch_size = 30\n",
    "learning_rate=0.001\n",
    "rho=0.9\n",
    "epsilon=1e-08\n",
    "decay=0.0"
   ]
  },
  {
   "cell_type": "code",
   "execution_count": null,
   "metadata": {},
   "outputs": [],
   "source": [
    "# TODO: implement other types of optimizers to see the difference betweem them\n",
    "# TODO: learn about the RMSProp\n",
    "optimizer = rmsprop_v2.RMSProp(\n",
    "     rho=rho, epsilon=epsilon, decay=decay\n",
    ")"
   ]
  },
  {
   "cell_type": "code",
   "execution_count": null,
   "metadata": {},
   "outputs": [],
   "source": [
    "# TODO: use other types of loss functions and compare the accuracy\n",
    "model.compile(\n",
    "    optimizer=optimizer,\n",
    "    loss=\"categorical_crossentropy\",\n",
    "    metrics=[\"accuracy\"]\n",
    ")"
   ]
  },
  {
   "cell_type": "markdown",
   "metadata": {},
   "source": [
    "We're gonna use the `ReduceLROnPlateau` callback.\n",
    "\n",
    "This class dynamically deacrese the _learning rate_ as the loss came to certain plateou.\n",
    "\n",
    "This will increase the speed to the learning, because at the beginning we make large steps down the \"hill\", and as the network learns, we deacrease this number to improve the accuracy"
   ]
  },
  {
   "cell_type": "code",
   "execution_count": null,
   "metadata": {},
   "outputs": [],
   "source": [
    "learning_rate_reduction = ReduceLROnPlateau(\n",
    "    monitor='loss',\n",
    "    patience=3,\n",
    "    verbose=1,\n",
    "    factor=0.5,\n",
    "    min_lr=0.00001\n",
    ")"
   ]
  },
  {
   "cell_type": "markdown",
   "metadata": {},
   "source": [
    "\n",
    "## Data Augmentation\n",
    "- Is artificially expand the data that we have, creating new variations from the existing ones\n",
    "- On the mnist problem, where the input data is images, we can rotate, scale, decentralize the image to create a slightly different image\n",
    "- We're gonna use the `ImageDataGenerator` from keras, to create artificial data"
   ]
  },
  {
   "cell_type": "code",
   "execution_count": null,
   "metadata": {},
   "outputs": [],
   "source": [
    "datagen = ImageDataGenerator(\n",
    "    featurewise_center=False,\n",
    "    samplewise_center=False,\n",
    "    featurewise_std_normalization=False,\n",
    "    samplewise_std_normalization=False,\n",
    "    zca_whitening=False,\n",
    "    rotation_range=10, # randomly rotate the image\n",
    "    zoom_range=0.1, # randomly zoom the image\n",
    "    width_shift_range=0.1, # randomly shift image horizontally\n",
    "    height_shift_range=0.1, # randomly shilft images\n",
    "    vertical_flip=False, # randomly flip the image\n",
    ")\n",
    "\n",
    "datagen.fit(X_train)"
   ]
  },
  {
   "cell_type": "code",
   "execution_count": null,
   "metadata": {},
   "outputs": [
    {
     "name": "stdout",
     "output_type": "stream",
     "text": [
      "Epoch 1/10\n",
      "1260/1260 [==============================] - 9s 7ms/step - loss: 0.4326 - accuracy: 0.8619 - val_loss: 0.0813 - val_accuracy: 0.9769\n",
      "Epoch 2/10\n",
      "1260/1260 [==============================] - 9s 7ms/step - loss: 0.1750 - accuracy: 0.9493 - val_loss: 0.0730 - val_accuracy: 0.9786\n",
      "Epoch 3/10\n",
      "1260/1260 [==============================] - 9s 7ms/step - loss: 0.1483 - accuracy: 0.9589 - val_loss: 0.0596 - val_accuracy: 0.9829\n",
      "Epoch 4/10\n",
      "1260/1260 [==============================] - 9s 7ms/step - loss: 0.1392 - accuracy: 0.9619 - val_loss: 0.0729 - val_accuracy: 0.9793\n",
      "Epoch 5/10\n",
      "1260/1260 [==============================] - 9s 7ms/step - loss: 0.1430 - accuracy: 0.9613 - val_loss: 0.0530 - val_accuracy: 0.9867\n",
      "Epoch 6/10\n",
      "1260/1260 [==============================] - 9s 7ms/step - loss: 0.1500 - accuracy: 0.9596 - val_loss: 0.0540 - val_accuracy: 0.9862\n",
      "Epoch 7/10\n",
      "1260/1260 [==============================] - 9s 7ms/step - loss: 0.1511 - accuracy: 0.9598 - val_loss: 0.0461 - val_accuracy: 0.9890\n",
      "\n",
      "Epoch 00007: ReduceLROnPlateau reducing learning rate to 0.0005000000237487257.\n",
      "Epoch 8/10\n",
      "1260/1260 [==============================] - 9s 7ms/step - loss: 0.1243 - accuracy: 0.9677 - val_loss: 0.0657 - val_accuracy: 0.9864\n",
      "Epoch 9/10\n",
      "1260/1260 [==============================] - 8s 6ms/step - loss: 0.1255 - accuracy: 0.9664 - val_loss: 0.0472 - val_accuracy: 0.9871\n",
      "Epoch 10/10\n",
      "1260/1260 [==============================] - 8s 6ms/step - loss: 0.1262 - accuracy: 0.9674 - val_loss: 0.0680 - val_accuracy: 0.9850\n",
      "INFO:tensorflow:Assets written to: /tmp/tmpi1ve6y3o/model/data/model/assets\n"
     ]
    }
   ],
   "source": [
    "history = model.fit(\n",
    "    datagen.flow(\n",
    "        X_train, Y_train, batch_size=batch_size\n",
    "    ),\n",
    "    epochs=epochs,\n",
    "    validation_data=(X_val, Y_val),\n",
    "    verbose=1,\n",
    "    steps_per_epoch=X_train.shape[0] // batch_size,\n",
    "    callbacks=[learning_rate_reduction]\n",
    ")"
   ]
  },
  {
   "cell_type": "markdown",
   "metadata": {},
   "source": [
    "## Evaluating the network\n",
    "- Showing the result with the simplest network architecture and with no data augmentation"
   ]
  },
  {
   "cell_type": "code",
   "execution_count": null,
   "metadata": {},
   "outputs": [
    {
     "name": "stdout",
     "output_type": "stream",
     "text": [
      "Best accuracy: 0.967698\n",
      "Best validation accuracy: 0.989048\n"
     ]
    },
    {
     "data": {
      "image/png": "[encoded data removed]",
      "text/plain": [
       "<Figure size 432x288 with 2 Axes>"
      ]
     },
     "metadata": {},
     "output_type": "display_data"
    }
   ],
   "source": [
    "plot_accuracy_and_loss(history)"
   ]
  }
 ],
 "metadata": {
  "interpreter": {
   "hash": "fb211f8e5f6f43c2b57b67b00da275e25383f8d4e27af93582f7165f5da02e4a"
  },
  "kernelspec": {
   "display_name": "Python 3.9.7 64-bit ('cnn-mnist-3oAv3CAk-py3.9': poetry)",
   "name": "python3"
  },
  "language_info": {
   "codemirror_mode": {
    "name": "ipython",
    "version": 3
   },
   "file_extension": ".py",
   "mimetype": "text/x-python",
   "name": "python",
   "nbconvert_exporter": "python",
   "pygments_lexer": "ipython3",
   "version": "3.9.7"
  }
 },
 "nbformat": 4,
 "nbformat_minor": 5
}
